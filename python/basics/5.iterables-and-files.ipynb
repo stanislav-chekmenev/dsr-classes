{
 "cells": [
  {
   "cell_type": "markdown",
   "metadata": {},
   "source": [
    "## Iterables\n",
    "\n",
    "Fundamental in data processing\n",
    "\n",
    "## The Python `list`\n",
    "\n",
    "`[]`\n",
    "\n",
    "We can use the Python bulit-in function `range` to make a list of numbers:"
   ]
  },
  {
   "cell_type": "code",
   "execution_count": 1,
   "metadata": {},
   "outputs": [
    {
     "data": {
      "text/plain": [
       "[0, 1, 2, 3, 4, 5, 6, 7, 8, 9]"
      ]
     },
     "execution_count": 1,
     "metadata": {},
     "output_type": "execute_result"
    }
   ],
   "source": [
    "x = list(range(100000))\n",
    "\n",
    "x[:10]"
   ]
  },
  {
   "cell_type": "markdown",
   "metadata": {},
   "source": [
    "We can see how many items are in our list using the Python builtin `len`:"
   ]
  },
  {
   "cell_type": "code",
   "execution_count": 2,
   "metadata": {},
   "outputs": [
    {
     "data": {
      "text/plain": [
       "100000"
      ]
     },
     "execution_count": 2,
     "metadata": {},
     "output_type": "execute_result"
    }
   ],
   "source": [
    "len(x)"
   ]
  },
  {
   "cell_type": "markdown",
   "metadata": {},
   "source": [
    "We can see if an item is in our list:"
   ]
  },
  {
   "cell_type": "code",
   "execution_count": 3,
   "metadata": {},
   "outputs": [
    {
     "data": {
      "text/plain": [
       "True"
      ]
     },
     "execution_count": 3,
     "metadata": {},
     "output_type": "execute_result"
    }
   ],
   "source": [
    "42 in x"
   ]
  },
  {
   "cell_type": "markdown",
   "metadata": {},
   "source": [
    "The Python list can hold objects of different types\n",
    "- this gives the programmer flexibility\n",
    "- cost of memory used by a list\n",
    "\n",
    "Lists reserve space for more objects than they have\n",
    "\n",
    "Another common Python iterable is the numpy array, which will use less memory:\n",
    "\n",
    "https://webcourses.ucf.edu/courses/1249560/pages/python-lists-vs-numpy-arrays-what-is-the-difference"
   ]
  },
  {
   "cell_type": "code",
   "execution_count": 4,
   "metadata": {},
   "outputs": [
    {
     "data": {
      "text/plain": [
       "900112"
      ]
     },
     "execution_count": 4,
     "metadata": {},
     "output_type": "execute_result"
    }
   ],
   "source": [
    "import sys\n",
    "\n",
    "sys.getsizeof(x)"
   ]
  },
  {
   "cell_type": "code",
   "execution_count": 5,
   "metadata": {},
   "outputs": [
    {
     "data": {
      "text/plain": [
       "800096"
      ]
     },
     "execution_count": 5,
     "metadata": {},
     "output_type": "execute_result"
    }
   ],
   "source": [
    "import numpy as np\n",
    "\n",
    "sys.getsizeof(np.array(x))"
   ]
  },
  {
   "cell_type": "markdown",
   "metadata": {},
   "source": [
    "Numpy arrays are also quicker due to the operations being written in C:\n",
    "- numpy = C with Python bindings"
   ]
  },
  {
   "cell_type": "markdown",
   "metadata": {},
   "source": [
    "### Iterating over a list"
   ]
  },
  {
   "cell_type": "code",
   "execution_count": 6,
   "metadata": {},
   "outputs": [
    {
     "data": {
      "text/plain": [
       "[4, 8, 12]"
      ]
     },
     "execution_count": 6,
     "metadata": {},
     "output_type": "execute_result"
    }
   ],
   "source": [
    "x = [2, 4, 6]\n",
    "\n",
    "y = []\n",
    "for item in x:\n",
    "    y.append(item * 2)\n",
    "    \n",
    "y"
   ]
  },
  {
   "cell_type": "markdown",
   "metadata": {},
   "source": [
    "## List comprehensions\n",
    "\n",
    "Another example of being Pythonic.  The list comprehension will **return a new list**.\n",
    "\n",
    "Don't worry if the list comprehension syntax isn't immediately intuitive - you will get it eventually :)"
   ]
  },
  {
   "cell_type": "code",
   "execution_count": 7,
   "metadata": {},
   "outputs": [
    {
     "data": {
      "text/plain": [
       "[4, 8, 12]"
      ]
     },
     "execution_count": 7,
     "metadata": {},
     "output_type": "execute_result"
    }
   ],
   "source": [
    "y = [item * 2 for item in x]\n",
    "y"
   ]
  },
  {
   "cell_type": "markdown",
   "metadata": {},
   "source": [
    "We can put a conditional inside the list comp:"
   ]
  },
  {
   "cell_type": "code",
   "execution_count": 8,
   "metadata": {},
   "outputs": [
    {
     "data": {
      "text/plain": [
       "[8]"
      ]
     },
     "execution_count": 8,
     "metadata": {},
     "output_type": "execute_result"
    }
   ],
   "source": [
    "y = [item * 2 for item in x if item == 4]\n",
    "y"
   ]
  },
  {
   "cell_type": "markdown",
   "metadata": {},
   "source": [
    "## Iteration turns integral into a sum"
   ]
  },
  {
   "cell_type": "code",
   "execution_count": 15,
   "metadata": {},
   "outputs": [
    {
     "data": {
      "text/plain": [
       "0.33333333333333337"
      ]
     },
     "execution_count": 15,
     "metadata": {},
     "output_type": "execute_result"
    }
   ],
   "source": [
    "from scipy.integrate import quad\n",
    "\n",
    "def integrand(x):\n",
    "    return x**2\n",
    "\n",
    "ans, err = quad(integrand, 0, 1)\n",
    "ans"
   ]
  },
  {
   "cell_type": "code",
   "execution_count": 26,
   "metadata": {},
   "outputs": [
    {
     "data": {
      "text/plain": [
       "0.3333338333339938"
      ]
     },
     "execution_count": 26,
     "metadata": {},
     "output_type": "execute_result"
    }
   ],
   "source": [
    "import numpy as np\n",
    "\n",
    "x = np.linspace(0, 1, 1000000)\n",
    "\n",
    "step = x[1] - x[0]\n",
    "\n",
    "f = [integrand(v) for v in x]\n",
    "\n",
    "area = sum([step*v for v in f])\n",
    "area"
   ]
  },
  {
   "cell_type": "markdown",
   "metadata": {},
   "source": [
    "## Common patterns with looping\n",
    "\n",
    "Appending to an empty list:"
   ]
  },
  {
   "cell_type": "code",
   "execution_count": 27,
   "metadata": {},
   "outputs": [
    {
     "data": {
      "text/plain": [
       "[1.3355007953147866,\n",
       " -1.988926441344213,\n",
       " 0.9293730817110423,\n",
       " -0.8670057582230315,\n",
       " 0.07967774984068092]"
      ]
     },
     "execution_count": 27,
     "metadata": {},
     "output_type": "execute_result"
    }
   ],
   "source": [
    "from random import gauss\n",
    "\n",
    "data = []\n",
    "for _ in range(5):\n",
    "    data.append(gauss(0, 1))\n",
    "\n",
    "data"
   ]
  },
  {
   "cell_type": "markdown",
   "metadata": {},
   "source": [
    "Appending dicts to lists and making a pandas `DataFrame`:"
   ]
  },
  {
   "cell_type": "code",
   "execution_count": 28,
   "metadata": {},
   "outputs": [
    {
     "name": "stdout",
     "output_type": "stream",
     "text": [
      "{'standard-normal': -0.17168203353882658, 'uniform': 0.4934184989017}\n",
      "{'standard-normal': -0.6186764641285678, 'uniform': 0.5877900695056111}\n",
      "{'standard-normal': -0.8422580309860632, 'uniform': 0.14045602520043643}\n",
      "{'standard-normal': 3.32113764640708, 'uniform': 0.7184423799362724}\n",
      "{'standard-normal': -0.4041579099706633, 'uniform': 0.4461563683046349}\n"
     ]
    },
    {
     "data": {
      "text/html": [
       "<div>\n",
       "<style scoped>\n",
       "    .dataframe tbody tr th:only-of-type {\n",
       "        vertical-align: middle;\n",
       "    }\n",
       "\n",
       "    .dataframe tbody tr th {\n",
       "        vertical-align: top;\n",
       "    }\n",
       "\n",
       "    .dataframe thead th {\n",
       "        text-align: right;\n",
       "    }\n",
       "</style>\n",
       "<table border=\"1\" class=\"dataframe\">\n",
       "  <thead>\n",
       "    <tr style=\"text-align: right;\">\n",
       "      <th></th>\n",
       "      <th>standard-normal</th>\n",
       "      <th>uniform</th>\n",
       "    </tr>\n",
       "  </thead>\n",
       "  <tbody>\n",
       "    <tr>\n",
       "      <th>0</th>\n",
       "      <td>-0.171682</td>\n",
       "      <td>0.493418</td>\n",
       "    </tr>\n",
       "    <tr>\n",
       "      <th>1</th>\n",
       "      <td>-0.618676</td>\n",
       "      <td>0.587790</td>\n",
       "    </tr>\n",
       "    <tr>\n",
       "      <th>2</th>\n",
       "      <td>-0.842258</td>\n",
       "      <td>0.140456</td>\n",
       "    </tr>\n",
       "    <tr>\n",
       "      <th>3</th>\n",
       "      <td>3.321138</td>\n",
       "      <td>0.718442</td>\n",
       "    </tr>\n",
       "    <tr>\n",
       "      <th>4</th>\n",
       "      <td>-0.404158</td>\n",
       "      <td>0.446156</td>\n",
       "    </tr>\n",
       "  </tbody>\n",
       "</table>\n",
       "</div>"
      ],
      "text/plain": [
       "   standard-normal   uniform\n",
       "0        -0.171682  0.493418\n",
       "1        -0.618676  0.587790\n",
       "2        -0.842258  0.140456\n",
       "3         3.321138  0.718442\n",
       "4        -0.404158  0.446156"
      ]
     },
     "execution_count": 28,
     "metadata": {},
     "output_type": "execute_result"
    }
   ],
   "source": [
    "from random import random as uniform\n",
    "\n",
    "import pandas as pd\n",
    "\n",
    "data = []\n",
    "for _ in range(5):\n",
    "    data.append(\n",
    "        {'standard-normal': gauss(0, 1),\n",
    "         'uniform': uniform()}\n",
    "    )\n",
    "\n",
    "for d in data:\n",
    "    print(d)\n",
    "pd.DataFrame(data)"
   ]
  },
  {
   "cell_type": "code",
   "execution_count": 29,
   "metadata": {},
   "outputs": [
    {
     "name": "stdout",
     "output_type": "stream",
     "text": [
      "{'standard-normal': [0.29553033461099465], 'uniform': [0.4650859381121234]}\n",
      "{'standard-normal': [0.29553033461099465, 1.3569183359524357], 'uniform': [0.4650859381121234, 0.6906422157301993]}\n",
      "{'standard-normal': [0.29553033461099465, 1.3569183359524357, -0.5283909601569745], 'uniform': [0.4650859381121234, 0.6906422157301993, 0.7577814827010518]}\n",
      "{'standard-normal': [0.29553033461099465, 1.3569183359524357, -0.5283909601569745, 2.1226101195729505], 'uniform': [0.4650859381121234, 0.6906422157301993, 0.7577814827010518, 0.4468833701075213]}\n",
      "{'standard-normal': [0.29553033461099465, 1.3569183359524357, -0.5283909601569745, 2.1226101195729505, 0.904398270361308], 'uniform': [0.4650859381121234, 0.6906422157301993, 0.7577814827010518, 0.4468833701075213, 0.17092896572205585]}\n"
     ]
    }
   ],
   "source": [
    "data = {'standard-normal': [], 'uniform': []}\n",
    "for _ in range(5):\n",
    "    data['standard-normal'].append(gauss(0, 1))\n",
    "    data['uniform'].append(uniform())\n",
    "\n",
    "    print(data)\n",
    "    \n",
    "#pd.DataFrame(data)\n",
    "data = pd.DataFrame(data, index=list(range(5)))"
   ]
  },
  {
   "cell_type": "code",
   "execution_count": 30,
   "metadata": {},
   "outputs": [
    {
     "data": {
      "text/html": [
       "<div>\n",
       "<style scoped>\n",
       "    .dataframe tbody tr th:only-of-type {\n",
       "        vertical-align: middle;\n",
       "    }\n",
       "\n",
       "    .dataframe tbody tr th {\n",
       "        vertical-align: top;\n",
       "    }\n",
       "\n",
       "    .dataframe thead th {\n",
       "        text-align: right;\n",
       "    }\n",
       "</style>\n",
       "<table border=\"1\" class=\"dataframe\">\n",
       "  <thead>\n",
       "    <tr style=\"text-align: right;\">\n",
       "      <th></th>\n",
       "      <th>standard-normal</th>\n",
       "      <th>uniform</th>\n",
       "    </tr>\n",
       "  </thead>\n",
       "  <tbody>\n",
       "    <tr>\n",
       "      <th>0</th>\n",
       "      <td>0.295530</td>\n",
       "      <td>0.465086</td>\n",
       "    </tr>\n",
       "    <tr>\n",
       "      <th>1</th>\n",
       "      <td>1.356918</td>\n",
       "      <td>0.690642</td>\n",
       "    </tr>\n",
       "    <tr>\n",
       "      <th>2</th>\n",
       "      <td>-0.528391</td>\n",
       "      <td>0.757781</td>\n",
       "    </tr>\n",
       "    <tr>\n",
       "      <th>3</th>\n",
       "      <td>2.122610</td>\n",
       "      <td>0.446883</td>\n",
       "    </tr>\n",
       "    <tr>\n",
       "      <th>4</th>\n",
       "      <td>0.904398</td>\n",
       "      <td>0.170929</td>\n",
       "    </tr>\n",
       "  </tbody>\n",
       "</table>\n",
       "</div>"
      ],
      "text/plain": [
       "   standard-normal   uniform\n",
       "0         0.295530  0.465086\n",
       "1         1.356918  0.690642\n",
       "2        -0.528391  0.757781\n",
       "3         2.122610  0.446883\n",
       "4         0.904398  0.170929"
      ]
     },
     "execution_count": 30,
     "metadata": {},
     "output_type": "execute_result"
    }
   ],
   "source": [
    "data"
   ]
  },
  {
   "cell_type": "code",
   "execution_count": 31,
   "metadata": {},
   "outputs": [
    {
     "data": {
      "text/plain": [
       "(5, 2)"
      ]
     },
     "execution_count": 31,
     "metadata": {},
     "output_type": "execute_result"
    }
   ],
   "source": [
    "data.shape"
   ]
  },
  {
   "cell_type": "code",
   "execution_count": 32,
   "metadata": {},
   "outputs": [
    {
     "name": "stdout",
     "output_type": "stream",
     "text": [
      "0    0.295530\n",
      "1    1.356918\n",
      "2   -0.528391\n",
      "3    2.122610\n",
      "4    0.904398\n",
      "Name: standard-normal, dtype: float64\n",
      " \n",
      "0    0.465086\n",
      "1    0.690642\n",
      "2    0.757781\n",
      "3    0.446883\n",
      "4    0.170929\n",
      "Name: uniform, dtype: float64\n",
      " \n"
     ]
    }
   ],
   "source": [
    "for n in range(data.shape[1]):\n",
    "    print(data.iloc[:, n])\n",
    "    print(' ')"
   ]
  },
  {
   "cell_type": "markdown",
   "metadata": {},
   "source": [
    "## `zip()`\n",
    "\n",
    "Looping over two things at the same time:"
   ]
  },
  {
   "cell_type": "code",
   "execution_count": 33,
   "metadata": {},
   "outputs": [
    {
     "name": "stdout",
     "output_type": "stream",
     "text": [
      "0 6\n",
      "1 7\n",
      "2 8\n",
      "3 9\n",
      "4 10\n",
      "5 11\n"
     ]
    }
   ],
   "source": [
    "f = list(range(0, 6))\n",
    "s = list(range(6, 12))\n",
    "\n",
    "assert len(f) == len(s)\n",
    "\n",
    "for first, second in zip(f, s):\n",
    "    print(first, second)"
   ]
  },
  {
   "cell_type": "markdown",
   "metadata": {},
   "source": [
    "## `enumerate()`\n",
    "\n",
    "Enumerate gives us an integer index as we enumerate:"
   ]
  },
  {
   "cell_type": "code",
   "execution_count": 34,
   "metadata": {},
   "outputs": [
    {
     "name": "stdout",
     "output_type": "stream",
     "text": [
      "0 100\n",
      "1 101\n",
      "2 102\n",
      "3 103\n",
      "4 104\n"
     ]
    }
   ],
   "source": [
    "x = list(range(100, 105))\n",
    "\n",
    "for idx, item in enumerate(x):\n",
    "    print(idx, item)"
   ]
  },
  {
   "cell_type": "markdown",
   "metadata": {},
   "source": [
    "We can also start the index at a value other than zero:"
   ]
  },
  {
   "cell_type": "code",
   "execution_count": 35,
   "metadata": {},
   "outputs": [
    {
     "name": "stdout",
     "output_type": "stream",
     "text": [
      "2 100\n",
      "3 101\n",
      "4 102\n",
      "5 103\n",
      "6 104\n"
     ]
    }
   ],
   "source": [
    "for idx, item in enumerate(x, 2):\n",
    "    print(idx, item)"
   ]
  },
  {
   "cell_type": "markdown",
   "metadata": {},
   "source": [
    "## List algebra\n",
    "\n",
    "In Python we can do interesting things with list addition & multiplication:"
   ]
  },
  {
   "cell_type": "code",
   "execution_count": 37,
   "metadata": {},
   "outputs": [
    {
     "data": {
      "text/plain": [
       "[0, 1, 0, 1, 1, 0, 1, 0, 1, 1]"
      ]
     },
     "execution_count": 37,
     "metadata": {},
     "output_type": "execute_result"
    }
   ],
   "source": [
    "data = [\n",
    "    0, 1, 0, 1, 1\n",
    "]\n",
    "\n",
    "data * 2"
   ]
  },
  {
   "cell_type": "code",
   "execution_count": 38,
   "metadata": {},
   "outputs": [
    {
     "data": {
      "text/plain": [
       "[0, 1, 0, 1, 1, 0, 1, 0, 1, 1]"
      ]
     },
     "execution_count": 38,
     "metadata": {},
     "output_type": "execute_result"
    }
   ],
   "source": [
    "data + data"
   ]
  },
  {
   "cell_type": "markdown",
   "metadata": {},
   "source": [
    "## Exercise\n",
    "\n",
    "Create a **Cartesian product** - all the combinations between two lists:"
   ]
  },
  {
   "cell_type": "code",
   "execution_count": 40,
   "metadata": {},
   "outputs": [],
   "source": [
    "colors = ['white', 'black']\n",
    "sizes = ['small', 'medium', 'large']"
   ]
  },
  {
   "cell_type": "code",
   "execution_count": null,
   "metadata": {},
   "outputs": [],
   "source": []
  },
  {
   "cell_type": "markdown",
   "metadata": {},
   "source": [
    "## Indexing\n",
    "\n",
    "Python uses **zero-based indexing**.\n",
    "\n",
    "Index the first element at `0`:"
   ]
  },
  {
   "cell_type": "code",
   "execution_count": 62,
   "metadata": {},
   "outputs": [
    {
     "data": {
      "text/plain": [
       "0"
      ]
     },
     "execution_count": 62,
     "metadata": {},
     "output_type": "execute_result"
    }
   ],
   "source": [
    "x = list(range(100000))\n",
    "\n",
    "x[0]"
   ]
  },
  {
   "cell_type": "markdown",
   "metadata": {},
   "source": [
    "And the last at `-1`:"
   ]
  },
  {
   "cell_type": "code",
   "execution_count": 63,
   "metadata": {},
   "outputs": [
    {
     "data": {
      "text/plain": [
       "99999"
      ]
     },
     "execution_count": 63,
     "metadata": {},
     "output_type": "execute_result"
    }
   ],
   "source": [
    "x[-1]"
   ]
  },
  {
   "cell_type": "markdown",
   "metadata": {},
   "source": [
    "## Slicing\n",
    "\n",
    "We can select slices using similar notation:"
   ]
  },
  {
   "cell_type": "code",
   "execution_count": 64,
   "metadata": {},
   "outputs": [
    {
     "data": {
      "text/plain": [
       "[4, 5, 6, 7]"
      ]
     },
     "execution_count": 64,
     "metadata": {},
     "output_type": "execute_result"
    }
   ],
   "source": [
    "x[4:8]"
   ]
  },
  {
   "cell_type": "markdown",
   "metadata": {},
   "source": [
    "## Strings are iterables\n",
    "\n",
    "We can slice them:"
   ]
  },
  {
   "cell_type": "code",
   "execution_count": 65,
   "metadata": {},
   "outputs": [
    {
     "data": {
      "text/plain": [
       "'The ignorant work for their own profit'"
      ]
     },
     "execution_count": 65,
     "metadata": {},
     "output_type": "execute_result"
    }
   ],
   "source": [
    "gita = 'The ignorant work for their own profit, Arjuna the wise work for the welfare of the world, without thought for themselves - KRISHNA'\n",
    "\n",
    "gita[:38]"
   ]
  },
  {
   "cell_type": "markdown",
   "metadata": {},
   "source": [
    "We can also add them together:"
   ]
  },
  {
   "cell_type": "code",
   "execution_count": 66,
   "metadata": {},
   "outputs": [
    {
     "data": {
      "text/plain": [
       "'The ignorant work for their own profit, Arjuna the wise work for the welfare of the world, without thought for themselves - KRISHNA, Prediction is very difficult, especially if it is about the future - NEILS BOHR'"
      ]
     },
     "execution_count": 66,
     "metadata": {},
     "output_type": "execute_result"
    }
   ],
   "source": [
    "bohr = 'Prediction is very difficult, especially if it is about the future - NEILS BOHR'\n",
    "\n",
    "quotes = gita + ', ' + bohr\n",
    "quotes"
   ]
  },
  {
   "cell_type": "markdown",
   "metadata": {},
   "source": [
    "The above is a csv (comma separated value) string:"
   ]
  },
  {
   "cell_type": "code",
   "execution_count": 67,
   "metadata": {},
   "outputs": [
    {
     "data": {
      "text/plain": [
       "[['The ignorant work for their own profit',\n",
       "  ' Arjuna the wise work for the welfare of the world',\n",
       "  ' without thought for themselves - KRISHNA',\n",
       "  ' Prediction is very difficult',\n",
       "  ' especially if it is about the future - NEILS BOHR']]"
      ]
     },
     "execution_count": 67,
     "metadata": {},
     "output_type": "execute_result"
    }
   ],
   "source": [
    "import csv\n",
    "\n",
    "list(csv.reader([quotes]))"
   ]
  },
  {
   "cell_type": "markdown",
   "metadata": {},
   "source": [
    "Above we can see a problem - we have commas in the quotes.  "
   ]
  },
  {
   "cell_type": "markdown",
   "metadata": {},
   "source": [
    "## Writing data to files\n",
    "\n",
    "We can use Python's `open` bulit-in to write to a file:"
   ]
  },
  {
   "cell_type": "code",
   "execution_count": 68,
   "metadata": {},
   "outputs": [],
   "source": [
    "quotes = [bohr, gita]\n",
    "with open('./quotes.txt', 'w') as dump:\n",
    "    for line in quotes:\n",
    "        dump.write(line)\n",
    "        dump.write('\\n')"
   ]
  },
  {
   "cell_type": "markdown",
   "metadata": {},
   "source": [
    "Run bash commands to print file (`cat`) and then remove it (`rm`):"
   ]
  },
  {
   "cell_type": "code",
   "execution_count": 69,
   "metadata": {},
   "outputs": [
    {
     "name": "stdout",
     "output_type": "stream",
     "text": [
      "Prediction is very difficult, especially if it is about the future - NEILS BOHR\n",
      "The ignorant work for their own profit, Arjuna the wise work for the welfare of the world, without thought for themselves - KRISHNA\n"
     ]
    }
   ],
   "source": [
    "!cat quotes.txt\n",
    "!rm quotes.txt"
   ]
  },
  {
   "cell_type": "code",
   "execution_count": null,
   "metadata": {},
   "outputs": [],
   "source": []
  }
 ],
 "metadata": {
  "kernelspec": {
   "display_name": "Python 3",
   "language": "python",
   "name": "python3"
  },
  "language_info": {
   "codemirror_mode": {
    "name": "ipython",
    "version": 3
   },
   "file_extension": ".py",
   "mimetype": "text/x-python",
   "name": "python",
   "nbconvert_exporter": "python",
   "pygments_lexer": "ipython3",
   "version": "3.6.9"
  }
 },
 "nbformat": 4,
 "nbformat_minor": 4
}
