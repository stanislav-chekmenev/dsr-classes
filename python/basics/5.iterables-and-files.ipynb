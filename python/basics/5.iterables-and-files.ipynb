{
 "cells": [
  {
   "cell_type": "markdown",
   "metadata": {},
   "source": [
    "## Iterables\n",
    "\n",
    "Fundamental in data processing\n",
    "\n",
    "## The Python `list`\n",
    "\n",
    "`[]`\n",
    "\n",
    "We can use the Python bulit-in function `range` to make a list of numbers:"
   ]
  },
  {
   "cell_type": "code",
   "execution_count": 1,
   "metadata": {},
   "outputs": [
    {
     "data": {
      "text/plain": [
       "[0, 1, 2, 3, 4, 5, 6, 7, 8, 9]"
      ]
     },
     "execution_count": 1,
     "metadata": {},
     "output_type": "execute_result"
    }
   ],
   "source": [
    "x = list(range(100000))\n",
    "\n",
    "x[:10]"
   ]
  },
  {
   "cell_type": "markdown",
   "metadata": {},
   "source": [
    "We can see how many items are in our list using the Python builtin `len`:"
   ]
  },
  {
   "cell_type": "code",
   "execution_count": 2,
   "metadata": {},
   "outputs": [
    {
     "data": {
      "text/plain": [
       "100000"
      ]
     },
     "execution_count": 2,
     "metadata": {},
     "output_type": "execute_result"
    }
   ],
   "source": [
    "len(x)"
   ]
  },
  {
   "cell_type": "markdown",
   "metadata": {},
   "source": [
    "We can see if an item is in our list:"
   ]
  },
  {
   "cell_type": "code",
   "execution_count": 3,
   "metadata": {},
   "outputs": [
    {
     "data": {
      "text/plain": [
       "True"
      ]
     },
     "execution_count": 3,
     "metadata": {},
     "output_type": "execute_result"
    }
   ],
   "source": [
    "42 in x"
   ]
  },
  {
   "cell_type": "markdown",
   "metadata": {},
   "source": [
    "The Python list can hold objects of different types\n",
    "- this gives the programmer flexibility\n",
    "- cost of memory used by a list\n",
    "\n",
    "Lists reserve space for more objects than they have\n",
    "\n",
    "Another common Python iterable is the numpy array, which will use less memory:\n",
    "\n",
    "https://webcourses.ucf.edu/courses/1249560/pages/python-lists-vs-numpy-arrays-what-is-the-difference"
   ]
  },
  {
   "cell_type": "code",
   "execution_count": 4,
   "metadata": {},
   "outputs": [
    {
     "data": {
      "text/plain": [
       "900112"
      ]
     },
     "execution_count": 4,
     "metadata": {},
     "output_type": "execute_result"
    }
   ],
   "source": [
    "import sys\n",
    "\n",
    "sys.getsizeof(x)"
   ]
  },
  {
   "cell_type": "code",
   "execution_count": 5,
   "metadata": {},
   "outputs": [
    {
     "data": {
      "text/plain": [
       "800096"
      ]
     },
     "execution_count": 5,
     "metadata": {},
     "output_type": "execute_result"
    }
   ],
   "source": [
    "import numpy as np\n",
    "\n",
    "sys.getsizeof(np.array(x))"
   ]
  },
  {
   "cell_type": "markdown",
   "metadata": {},
   "source": [
    "Numpy arrays are also quicker due to the operations being written in C:\n",
    "- numpy = C with Python bindings"
   ]
  },
  {
   "cell_type": "markdown",
   "metadata": {},
   "source": [
    "### Iterating over a list"
   ]
  },
  {
   "cell_type": "code",
   "execution_count": 6,
   "metadata": {},
   "outputs": [
    {
     "data": {
      "text/plain": [
       "[4, 8, 12]"
      ]
     },
     "execution_count": 6,
     "metadata": {},
     "output_type": "execute_result"
    }
   ],
   "source": [
    "x = [2, 4, 6]\n",
    "\n",
    "y = []\n",
    "for item in x:\n",
    "    y.append(item * 2)\n",
    "    \n",
    "y"
   ]
  },
  {
   "cell_type": "markdown",
   "metadata": {},
   "source": [
    "## List comprehensions\n",
    "\n",
    "Another example of being Pythonic.  The list comprehension will **return a new list**.\n",
    "\n",
    "Don't worry if the list comprehension syntax isn't immediately intuitive - you will get it eventually :)"
   ]
  },
  {
   "cell_type": "code",
   "execution_count": 7,
   "metadata": {},
   "outputs": [
    {
     "data": {
      "text/plain": [
       "[4, 8, 12]"
      ]
     },
     "execution_count": 7,
     "metadata": {},
     "output_type": "execute_result"
    }
   ],
   "source": [
    "y = [item * 2 for item in x]\n",
    "y"
   ]
  },
  {
   "cell_type": "markdown",
   "metadata": {},
   "source": [
    "We can put a conditional inside the list comp:"
   ]
  },
  {
   "cell_type": "code",
   "execution_count": 8,
   "metadata": {},
   "outputs": [
    {
     "data": {
      "text/plain": [
       "[8]"
      ]
     },
     "execution_count": 8,
     "metadata": {},
     "output_type": "execute_result"
    }
   ],
   "source": [
    "y = [item * 2 for item in x if item == 4]\n",
    "y"
   ]
  },
  {
   "cell_type": "markdown",
   "metadata": {},
   "source": [
    "## Iteration turns integral into a sum"
   ]
  },
  {
   "cell_type": "code",
   "execution_count": 9,
   "metadata": {},
   "outputs": [
    {
     "data": {
      "text/plain": [
       "0.33333333333333337"
      ]
     },
     "execution_count": 9,
     "metadata": {},
     "output_type": "execute_result"
    }
   ],
   "source": [
    "from scipy.integrate import quad\n",
    "\n",
    "def integrand(x):\n",
    "    return x**2\n",
    "\n",
    "ans, err = quad(integrand, 0, 1)\n",
    "ans"
   ]
  },
  {
   "cell_type": "code",
   "execution_count": 10,
   "metadata": {},
   "outputs": [
    {
     "data": {
      "text/plain": [
       "0.3333338333339938"
      ]
     },
     "execution_count": 10,
     "metadata": {},
     "output_type": "execute_result"
    }
   ],
   "source": [
    "import numpy as np\n",
    "\n",
    "x = np.linspace(0, 1, 1000000)\n",
    "\n",
    "step = x[1] - x[0]\n",
    "\n",
    "f = [integrand(v) for v in x]\n",
    "\n",
    "area = sum([step*v for v in f])\n",
    "area"
   ]
  },
  {
   "cell_type": "markdown",
   "metadata": {},
   "source": [
    "## Common patterns with looping\n",
    "\n",
    "Appending to an empty list:"
   ]
  },
  {
   "cell_type": "code",
   "execution_count": 11,
   "metadata": {},
   "outputs": [
    {
     "data": {
      "text/plain": [
       "[0.6943915249393937,\n",
       " -1.520931631844586,\n",
       " -1.617491592858226,\n",
       " -0.9277210976381901,\n",
       " 1.5653768053402017]"
      ]
     },
     "execution_count": 11,
     "metadata": {},
     "output_type": "execute_result"
    }
   ],
   "source": [
    "from random import gauss\n",
    "\n",
    "data = []\n",
    "for _ in range(5):\n",
    "    data.append(gauss(0, 1))\n",
    "\n",
    "data"
   ]
  },
  {
   "cell_type": "markdown",
   "metadata": {},
   "source": [
    "Appending dicts to lists and making a pandas `DataFrame`:"
   ]
  },
  {
   "cell_type": "code",
   "execution_count": 12,
   "metadata": {},
   "outputs": [
    {
     "name": "stdout",
     "output_type": "stream",
     "text": [
      "{'standard-normal': 0.29236867467118666, 'uniform': 0.31832302793394174}\n",
      "{'standard-normal': -0.5640117928942517, 'uniform': 0.631913210464561}\n",
      "{'standard-normal': 0.642356172313028, 'uniform': 0.37192294490665034}\n",
      "{'standard-normal': 1.440631980329184, 'uniform': 0.23278583708553602}\n",
      "{'standard-normal': -0.2452601649800075, 'uniform': 0.6605524986491615}\n"
     ]
    },
    {
     "data": {
      "text/html": [
       "<div>\n",
       "<style scoped>\n",
       "    .dataframe tbody tr th:only-of-type {\n",
       "        vertical-align: middle;\n",
       "    }\n",
       "\n",
       "    .dataframe tbody tr th {\n",
       "        vertical-align: top;\n",
       "    }\n",
       "\n",
       "    .dataframe thead th {\n",
       "        text-align: right;\n",
       "    }\n",
       "</style>\n",
       "<table border=\"1\" class=\"dataframe\">\n",
       "  <thead>\n",
       "    <tr style=\"text-align: right;\">\n",
       "      <th></th>\n",
       "      <th>standard-normal</th>\n",
       "      <th>uniform</th>\n",
       "    </tr>\n",
       "  </thead>\n",
       "  <tbody>\n",
       "    <tr>\n",
       "      <th>0</th>\n",
       "      <td>0.292369</td>\n",
       "      <td>0.318323</td>\n",
       "    </tr>\n",
       "    <tr>\n",
       "      <th>1</th>\n",
       "      <td>-0.564012</td>\n",
       "      <td>0.631913</td>\n",
       "    </tr>\n",
       "    <tr>\n",
       "      <th>2</th>\n",
       "      <td>0.642356</td>\n",
       "      <td>0.371923</td>\n",
       "    </tr>\n",
       "    <tr>\n",
       "      <th>3</th>\n",
       "      <td>1.440632</td>\n",
       "      <td>0.232786</td>\n",
       "    </tr>\n",
       "    <tr>\n",
       "      <th>4</th>\n",
       "      <td>-0.245260</td>\n",
       "      <td>0.660552</td>\n",
       "    </tr>\n",
       "  </tbody>\n",
       "</table>\n",
       "</div>"
      ],
      "text/plain": [
       "   standard-normal   uniform\n",
       "0         0.292369  0.318323\n",
       "1        -0.564012  0.631913\n",
       "2         0.642356  0.371923\n",
       "3         1.440632  0.232786\n",
       "4        -0.245260  0.660552"
      ]
     },
     "execution_count": 12,
     "metadata": {},
     "output_type": "execute_result"
    }
   ],
   "source": [
    "from random import random as uniform\n",
    "\n",
    "import pandas as pd\n",
    "\n",
    "data = []\n",
    "for _ in range(5):\n",
    "    data.append(\n",
    "        {'standard-normal': gauss(0, 1),\n",
    "         'uniform': uniform()}\n",
    "    )\n",
    "\n",
    "for d in data:\n",
    "    print(d)\n",
    "pd.DataFrame(data)"
   ]
  },
  {
   "cell_type": "code",
   "execution_count": 13,
   "metadata": {},
   "outputs": [
    {
     "name": "stdout",
     "output_type": "stream",
     "text": [
      "{'standard-normal': [0.13561859800202083], 'uniform': [0.2914517359049731]}\n",
      "{'standard-normal': [0.13561859800202083, -0.07721586800269041], 'uniform': [0.2914517359049731, 0.7192035379222816]}\n",
      "{'standard-normal': [0.13561859800202083, -0.07721586800269041, -2.166360640475556], 'uniform': [0.2914517359049731, 0.7192035379222816, 0.02146111411366558]}\n",
      "{'standard-normal': [0.13561859800202083, -0.07721586800269041, -2.166360640475556, -0.7988495901941858], 'uniform': [0.2914517359049731, 0.7192035379222816, 0.02146111411366558, 0.9899612183414147]}\n",
      "{'standard-normal': [0.13561859800202083, -0.07721586800269041, -2.166360640475556, -0.7988495901941858, 0.2880612603078178], 'uniform': [0.2914517359049731, 0.7192035379222816, 0.02146111411366558, 0.9899612183414147, 0.6520053708043135]}\n"
     ]
    }
   ],
   "source": [
    "data = {'standard-normal': [], 'uniform': []}\n",
    "for _ in range(5):\n",
    "    data['standard-normal'].append(gauss(0, 1))\n",
    "    data['uniform'].append(uniform())\n",
    "\n",
    "    print(data)\n",
    "    \n",
    "#pd.DataFrame(data)\n",
    "data = pd.DataFrame(data, index=list(range(5)))"
   ]
  },
  {
   "cell_type": "code",
   "execution_count": 14,
   "metadata": {},
   "outputs": [
    {
     "data": {
      "text/html": [
       "<div>\n",
       "<style scoped>\n",
       "    .dataframe tbody tr th:only-of-type {\n",
       "        vertical-align: middle;\n",
       "    }\n",
       "\n",
       "    .dataframe tbody tr th {\n",
       "        vertical-align: top;\n",
       "    }\n",
       "\n",
       "    .dataframe thead th {\n",
       "        text-align: right;\n",
       "    }\n",
       "</style>\n",
       "<table border=\"1\" class=\"dataframe\">\n",
       "  <thead>\n",
       "    <tr style=\"text-align: right;\">\n",
       "      <th></th>\n",
       "      <th>standard-normal</th>\n",
       "      <th>uniform</th>\n",
       "    </tr>\n",
       "  </thead>\n",
       "  <tbody>\n",
       "    <tr>\n",
       "      <th>0</th>\n",
       "      <td>0.135619</td>\n",
       "      <td>0.291452</td>\n",
       "    </tr>\n",
       "    <tr>\n",
       "      <th>1</th>\n",
       "      <td>-0.077216</td>\n",
       "      <td>0.719204</td>\n",
       "    </tr>\n",
       "    <tr>\n",
       "      <th>2</th>\n",
       "      <td>-2.166361</td>\n",
       "      <td>0.021461</td>\n",
       "    </tr>\n",
       "    <tr>\n",
       "      <th>3</th>\n",
       "      <td>-0.798850</td>\n",
       "      <td>0.989961</td>\n",
       "    </tr>\n",
       "    <tr>\n",
       "      <th>4</th>\n",
       "      <td>0.288061</td>\n",
       "      <td>0.652005</td>\n",
       "    </tr>\n",
       "  </tbody>\n",
       "</table>\n",
       "</div>"
      ],
      "text/plain": [
       "   standard-normal   uniform\n",
       "0         0.135619  0.291452\n",
       "1        -0.077216  0.719204\n",
       "2        -2.166361  0.021461\n",
       "3        -0.798850  0.989961\n",
       "4         0.288061  0.652005"
      ]
     },
     "execution_count": 14,
     "metadata": {},
     "output_type": "execute_result"
    }
   ],
   "source": [
    "data"
   ]
  },
  {
   "cell_type": "code",
   "execution_count": 15,
   "metadata": {},
   "outputs": [
    {
     "data": {
      "text/plain": [
       "(5, 2)"
      ]
     },
     "execution_count": 15,
     "metadata": {},
     "output_type": "execute_result"
    }
   ],
   "source": [
    "data.shape"
   ]
  },
  {
   "cell_type": "code",
   "execution_count": 16,
   "metadata": {},
   "outputs": [
    {
     "name": "stdout",
     "output_type": "stream",
     "text": [
      "0    0.135619\n",
      "1   -0.077216\n",
      "2   -2.166361\n",
      "3   -0.798850\n",
      "4    0.288061\n",
      "Name: standard-normal, dtype: float64\n",
      " \n",
      "0    0.291452\n",
      "1    0.719204\n",
      "2    0.021461\n",
      "3    0.989961\n",
      "4    0.652005\n",
      "Name: uniform, dtype: float64\n",
      " \n"
     ]
    }
   ],
   "source": [
    "for n in range(data.shape[1]):\n",
    "    print(data.iloc[:, n])\n",
    "    print(' ')"
   ]
  },
  {
   "cell_type": "markdown",
   "metadata": {},
   "source": [
    "## `zip()`\n",
    "\n",
    "Looping over two things at the same time:"
   ]
  },
  {
   "cell_type": "code",
   "execution_count": 19,
   "metadata": {},
   "outputs": [
    {
     "name": "stdout",
     "output_type": "stream",
     "text": [
      "0 6\n",
      "1 7\n",
      "2 8\n",
      "3 9\n",
      "4 10\n",
      "5 11\n"
     ]
    }
   ],
   "source": [
    "f = list(range(0, 6))\n",
    "s = list(range(6, 12))\n",
    "\n",
    "assert len(f) == len(s)\n",
    "\n",
    "for first, second in zip(f, s):\n",
    "    print(first, second)"
   ]
  },
  {
   "cell_type": "markdown",
   "metadata": {},
   "source": [
    "## `enumerate()`\n",
    "\n",
    "Enumerate gives us an integer index as we enumerate:"
   ]
  },
  {
   "cell_type": "code",
   "execution_count": 20,
   "metadata": {},
   "outputs": [
    {
     "name": "stdout",
     "output_type": "stream",
     "text": [
      "0 100\n",
      "1 101\n",
      "2 102\n",
      "3 103\n",
      "4 104\n"
     ]
    }
   ],
   "source": [
    "x = list(range(100, 105))\n",
    "\n",
    "for idx, item in enumerate(x):\n",
    "    print(idx, item)"
   ]
  },
  {
   "cell_type": "markdown",
   "metadata": {},
   "source": [
    "We can also start the index at a value other than zero:"
   ]
  },
  {
   "cell_type": "code",
   "execution_count": 21,
   "metadata": {},
   "outputs": [
    {
     "name": "stdout",
     "output_type": "stream",
     "text": [
      "2 100\n",
      "3 101\n",
      "4 102\n",
      "5 103\n",
      "6 104\n"
     ]
    }
   ],
   "source": [
    "for idx, item in enumerate(x, 2):\n",
    "    print(idx, item)"
   ]
  },
  {
   "cell_type": "markdown",
   "metadata": {},
   "source": [
    "## List algebra\n",
    "\n",
    "In Python we can do interesting things with list addition & multiplication:"
   ]
  },
  {
   "cell_type": "code",
   "execution_count": 22,
   "metadata": {},
   "outputs": [
    {
     "data": {
      "text/plain": [
       "[0, 1, 0, 1, 1, 0, 1, 0, 1, 1]"
      ]
     },
     "execution_count": 22,
     "metadata": {},
     "output_type": "execute_result"
    }
   ],
   "source": [
    "data = [\n",
    "    0, 1, 0, 1, 1\n",
    "]\n",
    "\n",
    "data * 2"
   ]
  },
  {
   "cell_type": "code",
   "execution_count": 23,
   "metadata": {},
   "outputs": [
    {
     "data": {
      "text/plain": [
       "[0, 1, 0, 1, 1, 0, 1, 0, 1, 1]"
      ]
     },
     "execution_count": 23,
     "metadata": {},
     "output_type": "execute_result"
    }
   ],
   "source": [
    "data + data"
   ]
  },
  {
   "cell_type": "markdown",
   "metadata": {},
   "source": [
    "## Exercise\n",
    "\n",
    "Create a **Cartesian product** - all the combinations between two lists:"
   ]
  },
  {
   "cell_type": "code",
   "execution_count": 25,
   "metadata": {},
   "outputs": [],
   "source": [
    "colors = ['white', 'black']\n",
    "sizes = ['small', 'medium', 'large']"
   ]
  },
  {
   "cell_type": "code",
   "execution_count": 26,
   "metadata": {},
   "outputs": [
    {
     "name": "stdout",
     "output_type": "stream",
     "text": [
      "white small\n",
      "white medium\n",
      "white large\n",
      "black small\n",
      "black medium\n",
      "black large\n"
     ]
    }
   ],
   "source": []
  },
  {
   "cell_type": "markdown",
   "metadata": {},
   "source": [
    "## Indexing\n",
    "\n",
    "Python uses **zero-based indexing**.\n",
    "\n",
    "Index the first element at `0`:"
   ]
  },
  {
   "cell_type": "code",
   "execution_count": 27,
   "metadata": {},
   "outputs": [
    {
     "data": {
      "text/plain": [
       "0"
      ]
     },
     "execution_count": 27,
     "metadata": {},
     "output_type": "execute_result"
    }
   ],
   "source": [
    "x = list(range(100000))\n",
    "\n",
    "x[0]"
   ]
  },
  {
   "cell_type": "markdown",
   "metadata": {},
   "source": [
    "And the last at `-1`:"
   ]
  },
  {
   "cell_type": "code",
   "execution_count": 28,
   "metadata": {},
   "outputs": [
    {
     "data": {
      "text/plain": [
       "99999"
      ]
     },
     "execution_count": 28,
     "metadata": {},
     "output_type": "execute_result"
    }
   ],
   "source": [
    "x[-1]"
   ]
  },
  {
   "cell_type": "markdown",
   "metadata": {},
   "source": [
    "## Slicing\n",
    "\n",
    "We can select slices using similar notation:"
   ]
  },
  {
   "cell_type": "code",
   "execution_count": 29,
   "metadata": {},
   "outputs": [
    {
     "data": {
      "text/plain": [
       "[4, 5, 6, 7]"
      ]
     },
     "execution_count": 29,
     "metadata": {},
     "output_type": "execute_result"
    }
   ],
   "source": [
    "x[4:8]"
   ]
  },
  {
   "cell_type": "markdown",
   "metadata": {},
   "source": [
    "## Strings are iterables\n",
    "\n",
    "We can slice them:"
   ]
  },
  {
   "cell_type": "code",
   "execution_count": 30,
   "metadata": {},
   "outputs": [
    {
     "data": {
      "text/plain": [
       "'The ignorant work for their own profit'"
      ]
     },
     "execution_count": 30,
     "metadata": {},
     "output_type": "execute_result"
    }
   ],
   "source": [
    "gita = 'The ignorant work for their own profit, Arjuna the wise work for the welfare of the world, without thought for themselves - KRISHNA'\n",
    "\n",
    "gita[:38]"
   ]
  },
  {
   "cell_type": "markdown",
   "metadata": {},
   "source": [
    "We can also add them together:"
   ]
  },
  {
   "cell_type": "code",
   "execution_count": 31,
   "metadata": {},
   "outputs": [
    {
     "data": {
      "text/plain": [
       "'The ignorant work for their own profit, Arjuna the wise work for the welfare of the world, without thought for themselves - KRISHNA, Prediction is very difficult, especially if it is about the future - NEILS BOHR'"
      ]
     },
     "execution_count": 31,
     "metadata": {},
     "output_type": "execute_result"
    }
   ],
   "source": [
    "bohr = 'Prediction is very difficult, especially if it is about the future - NEILS BOHR'\n",
    "\n",
    "quotes = gita + ', ' + bohr\n",
    "quotes"
   ]
  },
  {
   "cell_type": "markdown",
   "metadata": {},
   "source": [
    "The above is a csv (comma separated value) string:"
   ]
  },
  {
   "cell_type": "code",
   "execution_count": 32,
   "metadata": {},
   "outputs": [
    {
     "data": {
      "text/plain": [
       "[['The ignorant work for their own profit',\n",
       "  ' Arjuna the wise work for the welfare of the world',\n",
       "  ' without thought for themselves - KRISHNA',\n",
       "  ' Prediction is very difficult',\n",
       "  ' especially if it is about the future - NEILS BOHR']]"
      ]
     },
     "execution_count": 32,
     "metadata": {},
     "output_type": "execute_result"
    }
   ],
   "source": [
    "import csv\n",
    "\n",
    "list(csv.reader([quotes]))"
   ]
  },
  {
   "cell_type": "markdown",
   "metadata": {},
   "source": [
    "Above we can see a problem - we have commas in the quotes.  "
   ]
  },
  {
   "cell_type": "markdown",
   "metadata": {},
   "source": [
    "## Writing data to files\n",
    "\n",
    "We can use Python's `open` bulit-in to write to a file:"
   ]
  },
  {
   "cell_type": "code",
   "execution_count": 33,
   "metadata": {},
   "outputs": [],
   "source": [
    "quotes = [bohr, gita]\n",
    "with open('./quotes.txt', 'w') as dump:\n",
    "    for line in quotes:\n",
    "        dump.write(line)\n",
    "        dump.write('\\n')"
   ]
  },
  {
   "cell_type": "markdown",
   "metadata": {},
   "source": [
    "Run bash commands to print file (`cat`) and then remove it (`rm`):"
   ]
  },
  {
   "cell_type": "code",
   "execution_count": 34,
   "metadata": {},
   "outputs": [
    {
     "name": "stdout",
     "output_type": "stream",
     "text": [
      "Prediction is very difficult, especially if it is about the future - NEILS BOHR\n",
      "The ignorant work for their own profit, Arjuna the wise work for the welfare of the world, without thought for themselves - KRISHNA\n"
     ]
    }
   ],
   "source": [
    "!cat quotes.txt\n",
    "!rm quotes.txt"
   ]
  },
  {
   "cell_type": "code",
   "execution_count": null,
   "metadata": {},
   "outputs": [],
   "source": []
  }
 ],
 "metadata": {
  "kernelspec": {
   "display_name": "Python 3",
   "language": "python",
   "name": "python3"
  },
  "language_info": {
   "codemirror_mode": {
    "name": "ipython",
    "version": 3
   },
   "file_extension": ".py",
   "mimetype": "text/x-python",
   "name": "python",
   "nbconvert_exporter": "python",
   "pygments_lexer": "ipython3",
   "version": "3.6.9"
  }
 },
 "nbformat": 4,
 "nbformat_minor": 4
}
