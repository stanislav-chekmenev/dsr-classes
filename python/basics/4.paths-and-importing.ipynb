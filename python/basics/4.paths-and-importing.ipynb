{
 "cells": [
  {
   "cell_type": "markdown",
   "metadata": {},
   "source": [
    "## Paths\n",
    "\n",
    "Separators\n",
    "- Windows uses `\\` \n",
    "- Unix uses `/`\n",
    "\n",
    "If you have a space in a file name you need to escape like\n",
    "\n",
    "`/ my/ file.txt`\n",
    "\n",
    "Solution = don't put spaces in file names in the first place \n",
    "- use `-`\n",
    "\n",
    "`my-file.txt`"
   ]
  },
  {
   "cell_type": "code",
   "execution_count": 1,
   "metadata": {},
   "outputs": [
    {
     "data": {
      "text/plain": [
       "'/home/stas/dsr/dsr-classes/python/basics'"
      ]
     },
     "execution_count": 1,
     "metadata": {},
     "output_type": "execute_result"
    }
   ],
   "source": [
    "import os\n",
    "\n",
    "os.getcwd()"
   ]
  },
  {
   "cell_type": "markdown",
   "metadata": {},
   "source": [
    "## Importing packages\n",
    "\n",
    "https://realpython.com/absolute-vs-relative-python-imports/\n",
    "\n",
    "Module = any file with a `.py`\n",
    "\n",
    "Package = folder with modules in it\n",
    "\n",
    "We can import packages in various ways:"
   ]
  },
  {
   "cell_type": "code",
   "execution_count": 2,
   "metadata": {},
   "outputs": [],
   "source": [
    "import numpy\n",
    "\n",
    "from numpy import array\n",
    "\n",
    "import numpy as np"
   ]
  },
  {
   "cell_type": "markdown",
   "metadata": {},
   "source": [
    "How does Python know where to look for these packages?  The answer is the `PYTHONPATH`:"
   ]
  },
  {
   "cell_type": "code",
   "execution_count": 3,
   "metadata": {},
   "outputs": [
    {
     "data": {
      "text/plain": [
       "['/home/stas/anaconda3/envs/dsr/lib/python36.zip',\n",
       " '/home/stas/anaconda3/envs/dsr/lib/python3.6',\n",
       " '/home/stas/anaconda3/envs/dsr/lib/python3.6/lib-dynload',\n",
       " '',\n",
       " '/home/stas/anaconda3/envs/dsr/lib/python3.6/site-packages',\n",
       " '/home/stas/anaconda3/envs/dsr/lib/python3.6/site-packages/IPython/extensions',\n",
       " '/home/stas/.ipython']"
      ]
     },
     "execution_count": 3,
     "metadata": {},
     "output_type": "execute_result"
    }
   ],
   "source": [
    "import sys\n",
    "\n",
    "sys.path"
   ]
  },
  {
   "cell_type": "markdown",
   "metadata": {},
   "source": [
    "If we want to import packages from Python scripts not on this path, we can add them:"
   ]
  },
  {
   "cell_type": "code",
   "execution_count": 4,
   "metadata": {},
   "outputs": [
    {
     "ename": "ModuleNotFoundError",
     "evalue": "No module named 'example'",
     "output_type": "error",
     "traceback": [
      "\u001b[0;31m---------------------------------------------------------------------------\u001b[0m",
      "\u001b[0;31mModuleNotFoundError\u001b[0m                       Traceback (most recent call last)",
      "\u001b[0;32m<ipython-input-4-720c59d2bdaa>\u001b[0m in \u001b[0;36m<module>\u001b[0;34m\u001b[0m\n\u001b[1;32m      1\u001b[0m \u001b[0;31m#  this won't work\u001b[0m\u001b[0;34m\u001b[0m\u001b[0;34m\u001b[0m\u001b[0;34m\u001b[0m\u001b[0m\n\u001b[0;32m----> 2\u001b[0;31m \u001b[0;32mfrom\u001b[0m \u001b[0mexample\u001b[0m \u001b[0;32mimport\u001b[0m \u001b[0mhello_world\u001b[0m\u001b[0;34m\u001b[0m\u001b[0;34m\u001b[0m\u001b[0m\n\u001b[0m",
      "\u001b[0;31mModuleNotFoundError\u001b[0m: No module named 'example'"
     ]
    }
   ],
   "source": [
    "#  this won't work\n",
    "from example import hello_world"
   ]
  },
  {
   "cell_type": "markdown",
   "metadata": {},
   "source": [
    "If we add `dsr-classes/python/import-example` onto the PYTHONPATH, we can load modules from it:"
   ]
  },
  {
   "cell_type": "code",
   "execution_count": 5,
   "metadata": {},
   "outputs": [
    {
     "name": "stdout",
     "output_type": "stream",
     "text": [
      "Hello world!\n"
     ]
    }
   ],
   "source": [
    "sys.path.append('../import-example')\n",
    "\n",
    "#  works now\n",
    "from example import hello_world\n",
    "\n",
    "hello_world()"
   ]
  },
  {
   "cell_type": "markdown",
   "metadata": {},
   "source": [
    "We can see why it works by inspecting the PYTHONPATH again:"
   ]
  },
  {
   "cell_type": "code",
   "execution_count": 6,
   "metadata": {},
   "outputs": [
    {
     "data": {
      "text/plain": [
       "['/home/stas/anaconda3/envs/dsr/lib/python36.zip',\n",
       " '/home/stas/anaconda3/envs/dsr/lib/python3.6',\n",
       " '/home/stas/anaconda3/envs/dsr/lib/python3.6/lib-dynload',\n",
       " '',\n",
       " '/home/stas/anaconda3/envs/dsr/lib/python3.6/site-packages',\n",
       " '/home/stas/anaconda3/envs/dsr/lib/python3.6/site-packages/IPython/extensions',\n",
       " '/home/stas/.ipython',\n",
       " '../import-example']"
      ]
     },
     "execution_count": 6,
     "metadata": {},
     "output_type": "execute_result"
    }
   ],
   "source": [
    "sys.path"
   ]
  },
  {
   "cell_type": "markdown",
   "metadata": {},
   "source": [
    "## The `$HOME` environment variable\n",
    "\n",
    "This is a Unix environment variable - we can view using the bash command `echo`:"
   ]
  },
  {
   "cell_type": "code",
   "execution_count": 7,
   "metadata": {},
   "outputs": [
    {
     "name": "stdout",
     "output_type": "stream",
     "text": [
      "/home/stas\n"
     ]
    }
   ],
   "source": [
    "#  ! = run bash command in Jupyter\n",
    "!echo $HOME"
   ]
  },
  {
   "cell_type": "markdown",
   "metadata": {},
   "source": [
    "We can also access it in Python:"
   ]
  },
  {
   "cell_type": "code",
   "execution_count": 8,
   "metadata": {},
   "outputs": [
    {
     "data": {
      "text/plain": [
       "'/home/stas'"
      ]
     },
     "execution_count": 8,
     "metadata": {},
     "output_type": "execute_result"
    }
   ],
   "source": [
    "home = os.environ['HOME']\n",
    "\n",
    "home"
   ]
  },
  {
   "cell_type": "markdown",
   "metadata": {},
   "source": [
    "Using this directory to store data is useful - it makes your notebooks & packages transportable to any Unix machine, including cloud instances.\n",
    "\n",
    "Let's make a directory.  We can do this using:"
   ]
  },
  {
   "cell_type": "code",
   "execution_count": 9,
   "metadata": {},
   "outputs": [
    {
     "data": {
      "text/plain": [
       "\u001b[0;31mSignature:\u001b[0m \u001b[0mos\u001b[0m\u001b[0;34m.\u001b[0m\u001b[0mmakedirs\u001b[0m\u001b[0;34m(\u001b[0m\u001b[0mname\u001b[0m\u001b[0;34m,\u001b[0m \u001b[0mmode\u001b[0m\u001b[0;34m=\u001b[0m\u001b[0;36m511\u001b[0m\u001b[0;34m,\u001b[0m \u001b[0mexist_ok\u001b[0m\u001b[0;34m=\u001b[0m\u001b[0;32mFalse\u001b[0m\u001b[0;34m)\u001b[0m\u001b[0;34m\u001b[0m\u001b[0;34m\u001b[0m\u001b[0m\n",
       "\u001b[0;31mDocstring:\u001b[0m\n",
       "makedirs(name [, mode=0o777][, exist_ok=False])\n",
       "\n",
       "Super-mkdir; create a leaf directory and all intermediate ones.  Works like\n",
       "mkdir, except that any intermediate path segment (not just the rightmost)\n",
       "will be created if it does not exist. If the target directory already\n",
       "exists, raise an OSError if exist_ok is False. Otherwise no exception is\n",
       "raised.  This is recursive.\n",
       "\u001b[0;31mFile:\u001b[0m      ~/anaconda3/envs/dsr/lib/python3.6/os.py\n",
       "\u001b[0;31mType:\u001b[0m      function\n"
      ]
     },
     "metadata": {},
     "output_type": "display_data"
    }
   ],
   "source": [
    "os.makedirs?"
   ]
  },
  {
   "cell_type": "markdown",
   "metadata": {},
   "source": [
    "We need to pass a path into `makedirs`.\n",
    "\n",
    "An incorrect way (that would work) to do this would be to add the strings together \n",
    "- one problem with this is using the correct separator"
   ]
  },
  {
   "cell_type": "code",
   "execution_count": 10,
   "metadata": {},
   "outputs": [
    {
     "data": {
      "text/plain": [
       "'/home/stas/learning-python'"
      ]
     },
     "execution_count": 10,
     "metadata": {},
     "output_type": "execute_result"
    }
   ],
   "source": [
    "path = home + '/learning-python'\n",
    "path"
   ]
  },
  {
   "cell_type": "markdown",
   "metadata": {},
   "source": [
    "## `os.path`\n",
    "\n",
    "The classic & common way to deal with paths in Python"
   ]
  },
  {
   "cell_type": "code",
   "execution_count": 13,
   "metadata": {},
   "outputs": [],
   "source": [
    "#dir(os.path)"
   ]
  },
  {
   "cell_type": "markdown",
   "metadata": {},
   "source": [
    "We can use `os.path.join` to form our path:"
   ]
  },
  {
   "cell_type": "code",
   "execution_count": 14,
   "metadata": {},
   "outputs": [
    {
     "data": {
      "text/plain": [
       "False"
      ]
     },
     "execution_count": 14,
     "metadata": {},
     "output_type": "execute_result"
    }
   ],
   "source": [
    "path = os.path.join(home, 'learning-python')\n",
    "\n",
    "os.path.exists(path)"
   ]
  },
  {
   "cell_type": "markdown",
   "metadata": {},
   "source": [
    "Let's make our directory:"
   ]
  },
  {
   "cell_type": "code",
   "execution_count": 15,
   "metadata": {},
   "outputs": [
    {
     "data": {
      "text/plain": [
       "True"
      ]
     },
     "execution_count": 15,
     "metadata": {},
     "output_type": "execute_result"
    }
   ],
   "source": [
    "os.makedirs(path, exist_ok=True)\n",
    "\n",
    "os.path.exists(path)"
   ]
  },
  {
   "cell_type": "markdown",
   "metadata": {},
   "source": [
    "Another common usecase is iterating over all files in a directory - we can get a list using `os.listdir`:"
   ]
  },
  {
   "cell_type": "code",
   "execution_count": 18,
   "metadata": {},
   "outputs": [
    {
     "data": {
      "text/plain": [
       "['.gconf',\n",
       " '.thunderbird',\n",
       " '.PyCharmCE2019.3',\n",
       " '.jupyter',\n",
       " '.ssh',\n",
       " '.java',\n",
       " '.profile',\n",
       " '.pam_environment',\n",
       " 'Music',\n",
       " '.gnome',\n",
       " '.local',\n",
       " '.vim',\n",
       " '.gnupg',\n",
       " '.bash_history',\n",
       " '.bash_logout',\n",
       " 'PycharmProjects',\n",
       " '.viminfo',\n",
       " 'Desktop',\n",
       " 'anaconda3',\n",
       " 'Videos',\n",
       " '.wget-hsts',\n",
       " 'snap',\n",
       " '.cache',\n",
       " '.ipython',\n",
       " '.keras',\n",
       " '.gitconfig',\n",
       " 'learning-python',\n",
       " '.boto',\n",
       " '.config',\n",
       " 'sumo-1.3.1',\n",
       " '.ICEauthority',\n",
       " '.bashrc',\n",
       " '.pki',\n",
       " 'Templates',\n",
       " '.git-credentials',\n",
       " '.gsutil',\n",
       " 'Documents',\n",
       " 'Pictures',\n",
       " '.sudo_as_admin_successful',\n",
       " 'Downloads',\n",
       " '.mozilla',\n",
       " 'Jupyter',\n",
       " 'dsr',\n",
       " 'Public',\n",
       " '.conda']"
      ]
     },
     "execution_count": 18,
     "metadata": {},
     "output_type": "execute_result"
    }
   ],
   "source": [
    "os.listdir(home)"
   ]
  },
  {
   "cell_type": "markdown",
   "metadata": {},
   "source": [
    "The problem with `os.listdir` is that it only lists one directory - if we want recursive we can use `os.walk`:"
   ]
  },
  {
   "cell_type": "code",
   "execution_count": 24,
   "metadata": {},
   "outputs": [
    {
     "name": "stdout",
     "output_type": "stream",
     "text": [
      "../ ['top-down', 'basics', '.ipynb_checkpoints', 'assets', 'import-example'] ['readme.md']\n",
      "../top-down ['.ipynb_checkpoints'] ['using-an-api.ipynb', 'linear-programming.ipynb', 'readme.md', 'web-scraping.ipynb']\n",
      "../top-down/.ipynb_checkpoints [] ['web-scraping-checkpoint.ipynb', 'linear-programming-checkpoint.ipynb']\n",
      "../basics ['__pycache__', '.ipynb_checkpoints'] ['2.pep8.ipynb', '4.paths-and-importing.ipynb', '6.dicts-and-sets.ipynb', '7.functions.ipynb', '5.iterables-and-files.ipynb', '8.classes.ipynb', 'readme.md', '3.strings.ipynb', 'answers.py', '1.intro.ipynb']\n",
      "../basics/__pycache__ [] ['answers.cpython-36.pyc']\n",
      "../basics/.ipynb_checkpoints [] ['7.functions-checkpoint.ipynb', '4.paths-and-importing-checkpoint.ipynb', 'answers-checkpoint.py', '3.strings-checkpoint.ipynb', '1.intro-checkpoint.ipynb', '8.classes-checkpoint.ipynb', '2.pep8-checkpoint.ipynb', '6.dicts-and-sets-checkpoint.ipynb', '5.iterables-and-files-checkpoint.ipynb']\n",
      "../.ipynb_checkpoints [] ['readme-checkpoint.md']\n",
      "../assets [] ['guido.jpeg', 'dev1.png', 'dev2.png']\n",
      "../import-example ['__pycache__', '.ipynb_checkpoints'] ['example.py']\n",
      "../import-example/__pycache__ [] ['example.cpython-36.pyc']\n",
      "../import-example/.ipynb_checkpoints [] ['example-checkpoint.py']\n"
     ]
    }
   ],
   "source": [
    "for root, dirs, files in os.walk('../'):\n",
    "    print(root, dirs, files)"
   ]
  },
  {
   "cell_type": "markdown",
   "metadata": {},
   "source": [
    "## `pathlib`\n",
    "\n",
    "[Python 3's pathlib Module: Taming the File System - Real Python](https://realpython.com/python-pathlib/)\n",
    "\n",
    "In Python 3.4 `pathlib` was introduced.  `pathlib` is an object oriented approach - centered around a `Path` object:"
   ]
  },
  {
   "cell_type": "code",
   "execution_count": 25,
   "metadata": {},
   "outputs": [
    {
     "data": {
      "text/plain": [
       "PosixPath('intro.ipynb')"
      ]
     },
     "execution_count": 25,
     "metadata": {},
     "output_type": "execute_result"
    }
   ],
   "source": [
    "from pathlib import Path\n",
    "\n",
    "#  In Unix, `.` refers to the current working directory\n",
    "p = Path('./intro.ipynb')\n",
    "\n",
    "p"
   ]
  },
  {
   "cell_type": "markdown",
   "metadata": {},
   "source": [
    "We can get the filetype:"
   ]
  },
  {
   "cell_type": "code",
   "execution_count": 26,
   "metadata": {},
   "outputs": [
    {
     "data": {
      "text/plain": [
       "'.ipynb'"
      ]
     },
     "execution_count": 26,
     "metadata": {},
     "output_type": "execute_result"
    }
   ],
   "source": [
    "p.suffix"
   ]
  },
  {
   "cell_type": "markdown",
   "metadata": {},
   "source": [
    "The filename:"
   ]
  },
  {
   "cell_type": "code",
   "execution_count": 27,
   "metadata": {},
   "outputs": [
    {
     "data": {
      "text/plain": [
       "'intro'"
      ]
     },
     "execution_count": 27,
     "metadata": {},
     "output_type": "execute_result"
    }
   ],
   "source": [
    "p.stem"
   ]
  },
  {
   "cell_type": "markdown",
   "metadata": {},
   "source": [
    "The user's $HOME:"
   ]
  },
  {
   "cell_type": "code",
   "execution_count": 28,
   "metadata": {},
   "outputs": [
    {
     "data": {
      "text/plain": [
       "PosixPath('/home/stas')"
      ]
     },
     "execution_count": 28,
     "metadata": {},
     "output_type": "execute_result"
    }
   ],
   "source": [
    "p.home()"
   ]
  },
  {
   "cell_type": "markdown",
   "metadata": {},
   "source": [
    "We can look at all the methods & attributes that don't have an `_` on the `Path` object:"
   ]
  },
  {
   "cell_type": "code",
   "execution_count": 29,
   "metadata": {},
   "outputs": [
    {
     "data": {
      "text/plain": [
       "['absolute',\n",
       " 'anchor',\n",
       " 'chmod',\n",
       " 'cwd',\n",
       " 'drive',\n",
       " 'exists',\n",
       " 'expanduser',\n",
       " 'glob',\n",
       " 'group',\n",
       " 'home',\n",
       " 'iterdir',\n",
       " 'joinpath',\n",
       " 'lchmod',\n",
       " 'lstat',\n",
       " 'match',\n",
       " 'mkdir',\n",
       " 'name',\n",
       " 'open',\n",
       " 'owner',\n",
       " 'parent',\n",
       " 'parents',\n",
       " 'parts',\n",
       " 'rename',\n",
       " 'replace',\n",
       " 'resolve',\n",
       " 'rglob',\n",
       " 'rmdir',\n",
       " 'root',\n",
       " 'samefile',\n",
       " 'stat',\n",
       " 'stem',\n",
       " 'suffix',\n",
       " 'suffixes',\n",
       " 'touch',\n",
       " 'unlink']"
      ]
     },
     "execution_count": 29,
     "metadata": {},
     "output_type": "execute_result"
    }
   ],
   "source": [
    "[f for f in dir(p) if '_' not in f]"
   ]
  },
  {
   "cell_type": "markdown",
   "metadata": {},
   "source": [
    "We can create files using `touch`:"
   ]
  },
  {
   "cell_type": "code",
   "execution_count": 30,
   "metadata": {},
   "outputs": [
    {
     "name": "stdout",
     "output_type": "stream",
     "text": [
      "1.intro.ipynb\t 4.paths-and-importing.ipynb  7.functions.ipynb  __pycache__\n",
      "2.pep8.ipynb\t 5.iterables-and-files.ipynb  8.classes.ipynb\t readme.md\n",
      "3.strings.ipynb  6.dicts-and-sets.ipynb       answers.py\t test.temp\n"
     ]
    }
   ],
   "source": [
    "p = Path('./test.temp')\n",
    "p.touch()\n",
    "!ls"
   ]
  },
  {
   "cell_type": "markdown",
   "metadata": {},
   "source": [
    "And delete files using `unlink`:"
   ]
  },
  {
   "cell_type": "code",
   "execution_count": 31,
   "metadata": {},
   "outputs": [
    {
     "name": "stdout",
     "output_type": "stream",
     "text": [
      "1.intro.ipynb\t 4.paths-and-importing.ipynb  7.functions.ipynb  __pycache__\n",
      "2.pep8.ipynb\t 5.iterables-and-files.ipynb  8.classes.ipynb\t readme.md\n",
      "3.strings.ipynb  6.dicts-and-sets.ipynb       answers.py\n"
     ]
    }
   ],
   "source": [
    "p.unlink()\n",
    "!ls"
   ]
  },
  {
   "cell_type": "markdown",
   "metadata": {},
   "source": [
    "We can read files without using context management:"
   ]
  },
  {
   "cell_type": "code",
   "execution_count": 32,
   "metadata": {},
   "outputs": [
    {
     "data": {
      "text/plain": [
       "'A series of notebooks designed to teach Python from the bottom up.  The notes are designed for students with no Python experience.\\n\\n## Further reading\\n\\n[My personal collection of Python resources](https://github.com/ADGEfficiency/programming-resources/tree/master/python)\\n\\n[The Python Tutorial](https://docs.python.org/3/tutorial/)\\n\\n[An Effective Python Environment: Making Yourself at Home - Real Python](https://realpython.com/effective-python-environment/)\\n'"
      ]
     },
     "execution_count": 32,
     "metadata": {},
     "output_type": "execute_result"
    }
   ],
   "source": [
    "Path('./readme.md').read_text()"
   ]
  },
  {
   "cell_type": "markdown",
   "metadata": {},
   "source": [
    "Joining paths can be done using the Python division syntax:"
   ]
  },
  {
   "cell_type": "code",
   "execution_count": 33,
   "metadata": {},
   "outputs": [
    {
     "data": {
      "text/plain": [
       "PosixPath('/home/stas/test_dir')"
      ]
     },
     "execution_count": 33,
     "metadata": {},
     "output_type": "execute_result"
    }
   ],
   "source": [
    "Path.home() / 'test_dir'"
   ]
  },
  {
   "cell_type": "markdown",
   "metadata": {},
   "source": [
    "## Exercise\n",
    "\n",
    "In your `$HOME` directory:\n",
    "\n",
    "A loop that:\n",
    "- create a folder `practice`\n",
    "- create 10 folders inside this directory (`practice/0`, `practice/1` ...)\n",
    "- create a `.py` file inside each that is double the folder number (`practice/0/0.py`, `practice/1/2.py`, `practice/2/4.py` ...)\n",
    "\n",
    "A second loop that:\n",
    "- gets the names of all files you created\n",
    "- copies the files into `practice` if the file name is evenly divisible by 4 `4.py`, `8.py` etc\n",
    "\n",
    "Then remove all the number folders (`practice/0`, `practice/1` ...)"
   ]
  },
  {
   "cell_type": "code",
   "execution_count": 95,
   "metadata": {},
   "outputs": [],
   "source": []
  }
 ],
 "metadata": {
  "kernelspec": {
   "display_name": "Python 3",
   "language": "python",
   "name": "python3"
  },
  "language_info": {
   "codemirror_mode": {
    "name": "ipython",
    "version": 3
   },
   "file_extension": ".py",
   "mimetype": "text/x-python",
   "name": "python",
   "nbconvert_exporter": "python",
   "pygments_lexer": "ipython3",
   "version": "3.6.9"
  }
 },
 "nbformat": 4,
 "nbformat_minor": 4
}
