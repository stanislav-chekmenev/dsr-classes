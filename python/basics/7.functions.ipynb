{
 "cells": [
  {
   "cell_type": "markdown",
   "metadata": {},
   "source": [
    "## Why functions\n",
    "\n",
    "Functions allow us to\n",
    "- reuse code - a bad pattern in programming is to duplicate code\n",
    "- test code\n",
    "- make code readable\n",
    "- control scope\n",
    "\n",
    "**Functional decomposition** is a key skill of a programmer\n",
    "\n",
    "## When to use functions\n",
    "\n",
    "Always\n",
    "- maybe not on your first draft\n",
    "- second draft is usually writing functions\n",
    "\n",
    "## Scope\n",
    "\n",
    "A local scope is made during the function call, which disapears after the function ends."
   ]
  },
  {
   "cell_type": "code",
   "execution_count": 6,
   "metadata": {},
   "outputs": [
    {
     "data": {
      "text/plain": [
       "40"
      ]
     },
     "execution_count": 6,
     "metadata": {},
     "output_type": "execute_result"
    }
   ],
   "source": [
    "#  global scope\n",
    "\n",
    "def simple():\n",
    "    #  local scope\n",
    "    x = 10\n",
    "    x = 20\n",
    "    # import pdb; pdb.set_trace()\n",
    "    return x * 2\n",
    "    \n",
    "#  global scope\n",
    "x = simple()\n",
    "\n",
    "x"
   ]
  },
  {
   "cell_type": "markdown",
   "metadata": {},
   "source": [
    "## `pdb`\n",
    "\n",
    "A Python debugger (standard library)"
   ]
  },
  {
   "cell_type": "markdown",
   "metadata": {},
   "source": [
    "## Using functions well\n",
    "\n",
    "```\n",
    "if check:\n",
    "\n",
    "   return   \n",
    "```\n",
    "\n",
    "rather than\n",
    "```\n",
    "if check:\n",
    "\n",
    "else:\n",
    "```\n"
   ]
  },
  {
   "cell_type": "markdown",
   "metadata": {},
   "source": [
    "## Parameters\n",
    "\n",
    "Inputs to functions\n",
    "\n",
    "### Positional parameters\n",
    "\n",
    "Based on the order"
   ]
  },
  {
   "cell_type": "code",
   "execution_count": 7,
   "metadata": {},
   "outputs": [
    {
     "data": {
      "text/plain": [
       "5"
      ]
     },
     "execution_count": 7,
     "metadata": {},
     "output_type": "execute_result"
    }
   ],
   "source": [
    "def adder(a, b):\n",
    "    return a + b\n",
    "\n",
    "adder(3, 2)"
   ]
  },
  {
   "cell_type": "markdown",
   "metadata": {},
   "source": [
    "We can **explode** positional arguments into a function:"
   ]
  },
  {
   "cell_type": "code",
   "execution_count": 8,
   "metadata": {},
   "outputs": [
    {
     "data": {
      "text/plain": [
       "5"
      ]
     },
     "execution_count": 8,
     "metadata": {},
     "output_type": "execute_result"
    }
   ],
   "source": [
    "vals = (3, 2)\n",
    "\n",
    "def adder(a, b):\n",
    "    return a + b\n",
    "\n",
    "adder(*vals)"
   ]
  },
  {
   "cell_type": "markdown",
   "metadata": {},
   "source": [
    "This can allow us to have variable length inputs:"
   ]
  },
  {
   "cell_type": "code",
   "execution_count": 9,
   "metadata": {},
   "outputs": [
    {
     "data": {
      "text/plain": [
       "8"
      ]
     },
     "execution_count": 9,
     "metadata": {},
     "output_type": "execute_result"
    }
   ],
   "source": [
    "vals = (3, 2, 3)\n",
    "\n",
    "def adder(*args):\n",
    "    return sum(args)\n",
    "\n",
    "adder(*vals)"
   ]
  },
  {
   "cell_type": "markdown",
   "metadata": {},
   "source": [
    "### Keyword parameters\n",
    "\n",
    "Based on the name\n",
    "- have defaults\n",
    "- use keyword args to enable functionality"
   ]
  },
  {
   "cell_type": "code",
   "execution_count": 10,
   "metadata": {},
   "outputs": [
    {
     "data": {
      "text/plain": [
       "1"
      ]
     },
     "execution_count": 10,
     "metadata": {},
     "output_type": "execute_result"
    }
   ],
   "source": [
    "def subtracter(first=4, second=2):\n",
    "    return first - second\n",
    "\n",
    "subtracter(3, 2)"
   ]
  },
  {
   "cell_type": "markdown",
   "metadata": {},
   "source": [
    "The default values allow us to run the function without input:"
   ]
  },
  {
   "cell_type": "code",
   "execution_count": 11,
   "metadata": {},
   "outputs": [
    {
     "data": {
      "text/plain": [
       "2"
      ]
     },
     "execution_count": 11,
     "metadata": {},
     "output_type": "execute_result"
    }
   ],
   "source": [
    "subtracter()"
   ]
  },
  {
   "cell_type": "markdown",
   "metadata": {},
   "source": [
    "We can use keyword args to enable functionality: "
   ]
  },
  {
   "cell_type": "code",
   "execution_count": 13,
   "metadata": {},
   "outputs": [
    {
     "name": "stdout",
     "output_type": "stream",
     "text": [
      "8 4 4\n"
     ]
    }
   ],
   "source": [
    "def subtracter(first=4, second=2, verbose=0):\n",
    "    result = first - second\n",
    "    \n",
    "    if verbose:\n",
    "        print(first, second, result)\n",
    "        \n",
    "    return result\n",
    "\n",
    "res = subtracter(8, 4, 1)"
   ]
  },
  {
   "cell_type": "markdown",
   "metadata": {},
   "source": [
    "Variable number of keywords parameters:"
   ]
  },
  {
   "cell_type": "code",
   "execution_count": 14,
   "metadata": {},
   "outputs": [
    {
     "name": "stdout",
     "output_type": "stream",
     "text": [
      "Key: first, value: 4\n",
      "Key: second, value: 2\n",
      "Key: third, value: 1\n"
     ]
    },
    {
     "data": {
      "text/plain": [
       "[4, 2, 1]"
      ]
     },
     "execution_count": 14,
     "metadata": {},
     "output_type": "execute_result"
    }
   ],
   "source": [
    "kvals = {'first': 4, 'second': 2, 'third': 1}\n",
    "\n",
    "def subtracter(**kwargs):\n",
    "    result = []\n",
    "    \n",
    "    for k, v in kwargs.items():\n",
    "        print(f'Key: {k}, value: {v}')\n",
    "        result.append(v)\n",
    "        \n",
    "    return result\n",
    "\n",
    "subtracter(**kvals)"
   ]
  },
  {
   "cell_type": "markdown",
   "metadata": {},
   "source": [
    "### Warning - mutable type as a parameter"
   ]
  },
  {
   "cell_type": "code",
   "execution_count": 19,
   "metadata": {},
   "outputs": [
    {
     "data": {
      "text/plain": [
       "1"
      ]
     },
     "execution_count": 19,
     "metadata": {},
     "output_type": "execute_result"
    }
   ],
   "source": [
    "def length(data=[]):\n",
    "    data.append(1)\n",
    "    return len(data)\n",
    "\n",
    "length()"
   ]
  },
  {
   "cell_type": "code",
   "execution_count": 20,
   "metadata": {},
   "outputs": [
    {
     "data": {
      "text/plain": [
       "2"
      ]
     },
     "execution_count": 20,
     "metadata": {},
     "output_type": "execute_result"
    }
   ],
   "source": [
    "length()"
   ]
  },
  {
   "cell_type": "code",
   "execution_count": 18,
   "metadata": {},
   "outputs": [
    {
     "data": {
      "text/plain": [
       "5"
      ]
     },
     "execution_count": 18,
     "metadata": {},
     "output_type": "execute_result"
    }
   ],
   "source": [
    "length([0, 1, 2, 3])"
   ]
  },
  {
   "cell_type": "markdown",
   "metadata": {},
   "source": [
    "Do you see what is happening above?\n",
    "- think about when the empty list is initialized"
   ]
  },
  {
   "cell_type": "markdown",
   "metadata": {},
   "source": [
    "## Exercise - factorial\n",
    "\n",
    "Test using `math.factorial`"
   ]
  },
  {
   "cell_type": "code",
   "execution_count": 61,
   "metadata": {},
   "outputs": [],
   "source": []
  },
  {
   "cell_type": "code",
   "execution_count": 57,
   "metadata": {},
   "outputs": [],
   "source": [
    "from math import factorial"
   ]
  },
  {
   "cell_type": "code",
   "execution_count": 58,
   "metadata": {},
   "outputs": [
    {
     "data": {
      "text/plain": [
       "3628800"
      ]
     },
     "execution_count": 58,
     "metadata": {},
     "output_type": "execute_result"
    }
   ],
   "source": [
    "factorial(10)"
   ]
  }
 ],
 "metadata": {
  "kernelspec": {
   "display_name": "Python 3",
   "language": "python",
   "name": "python3"
  },
  "language_info": {
   "codemirror_mode": {
    "name": "ipython",
    "version": 3
   },
   "file_extension": ".py",
   "mimetype": "text/x-python",
   "name": "python",
   "nbconvert_exporter": "python",
   "pygments_lexer": "ipython3",
   "version": "3.6.9"
  }
 },
 "nbformat": 4,
 "nbformat_minor": 4
}
